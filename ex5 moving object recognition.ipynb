{
 "cells": [
  {
   "cell_type": "code",
   "execution_count": 1,
   "id": "fc1cbb45-832f-4717-8253-d0b7df8ac34b",
   "metadata": {},
   "outputs": [],
   "source": [
    "import cv2\n",
    "import numpy as np"
   ]
  },
  {
   "cell_type": "code",
   "execution_count": 8,
   "id": "3f29f39d-48fc-431c-bc80-c9f4307be5d4",
   "metadata": {},
   "outputs": [
    {
     "name": "stdout",
     "output_type": "stream",
     "text": [
      "Detected object: person with confidence 0.97\n",
      "Detected object: diningtable with confidence 0.61\n",
      "Detected object: person with confidence 0.66\n",
      "Detected 3 objects, stopping execution...\n",
      "Detected object: person with confidence 0.76\n",
      "Detected 3 objects, stopping execution...\n",
      "Program execution stopped.\n"
     ]
    }
   ],
   "source": [
    "net = cv2.dnn.readNetFromCaffe('deploy.prototxt', 'mobilenet_iter_73000.caffemodel')\n",
    "classes = ['background', 'aeroplane', 'bicycle', 'bird', 'boat', 'bottle', 'bus', 'car', 'cat', \n",
    "           'chair', 'cow', 'diningtable', 'dog', 'horse', 'motorbike', 'person', 'pottedplant', \n",
    "           'sheep', 'sofa', 'train', 'tvmonitor']\n",
    "\n",
    "cap = cv2.VideoCapture(0)  \n",
    "\n",
    "fgbg = cv2.createBackgroundSubtractorMOG2()\n",
    "\n",
    "object_count = 0\n",
    "max_objects = 3\n",
    "\n",
    "while True:\n",
    "    ret, frame = cap.read()\n",
    "    \n",
    "    if not ret:\n",
    "        break\n",
    "\n",
    "    fgmask = fgbg.apply(frame)\n",
    "  \n",
    "    contours, _ = cv2.findContours(fgmask, cv2.RETR_TREE, cv2.CHAIN_APPROX_SIMPLE)\n",
    "    \n",
    "    for contour in contours:\n",
    "        if cv2.contourArea(contour) < 500:\n",
    "            continue\n",
    "        \n",
    "        x, y, w, h = cv2.boundingRect(contour)\n",
    "\n",
    "        roi = frame[y:y+h, x:x+w]\n",
    "\n",
    "        blob = cv2.dnn.blobFromImage(roi, 0.007843, (300, 300), 127.5)\n",
    "        net.setInput(blob)\n",
    "        detections = net.forward()\n",
    "  \n",
    "        for i in range(detections.shape[2]):\n",
    "            confidence = detections[0, 0, i, 2]\n",
    "            if confidence > 0.5:\n",
    "                idx = int(detections[0, 0, i, 1])\n",
    "                label = classes[idx]\n",
    "                label_text = f\"{label}: {confidence:.2f}\"\n",
    "             \n",
    "                cv2.rectangle(frame, (x, y), (x + w, y + h), (0, 255, 0), 2)\n",
    "                cv2.putText(frame, label_text, (x, y - 10), cv2.FONT_HERSHEY_SIMPLEX, 0.5, (0, 255, 0), 2)\n",
    "               \n",
    "                print(f\"Detected object: {label} with confidence {confidence:.2f}\")\n",
    "\n",
    "                object_count += 1\n",
    "                \n",
    "                if object_count >= max_objects:\n",
    "                    print(\"Detected 3 objects, stopping execution...\")\n",
    "                    break  \n",
    "   \n",
    "    if object_count >= max_objects:\n",
    "        break\n",
    "   \n",
    "    cv2.imshow('Frame', frame)\n",
    "    cv2.imshow('Foreground Mask', fgmask)\n",
    "    \n",
    " \n",
    "    if cv2.waitKey(30) & 0xFF == ord('q'):\n",
    "        break\n",
    "\n",
    "cap.release()\n",
    "cv2.destroyAllWindows()\n",
    "\n",
    "print(\"Program execution stopped.\")\n"
   ]
  },
  {
   "cell_type": "code",
   "execution_count": null,
   "id": "216aa8d1-84b0-4cb2-85af-2778448c23cc",
   "metadata": {},
   "outputs": [],
   "source": []
  }
 ],
 "metadata": {
  "kernelspec": {
   "display_name": "Python 3 (ipykernel)",
   "language": "python",
   "name": "python3"
  },
  "language_info": {
   "codemirror_mode": {
    "name": "ipython",
    "version": 3
   },
   "file_extension": ".py",
   "mimetype": "text/x-python",
   "name": "python",
   "nbconvert_exporter": "python",
   "pygments_lexer": "ipython3",
   "version": "3.12.3"
  }
 },
 "nbformat": 4,
 "nbformat_minor": 5
}
